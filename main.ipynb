{
 "cells": [
  {
   "cell_type": "code",
   "execution_count": null,
   "metadata": {},
   "outputs": [],
   "source": [
    "from keras.optimizers import Adam\n",
    "from keras.callbacks import ModelCheckpoint, TensorBoard, LearningRateScheduler\n",
    "\n",
    "import os, math, fnmatch\n",
    "import numpy as np\n",
    "from contextlib import redirect_stdout\n",
    "\n",
    "from utils.data import trainGenerator, testGenerator, saveResult\n",
    "from utils.helpers import get_label_info\n",
    "from utils.customloss import weighted_categorical_crossentropy\n",
    "from model.refinenet import build_refinenet"
   ]
  },
  {
   "cell_type": "markdown",
   "metadata": {},
   "source": [
    "## Definitions "
   ]
  },
  {
   "cell_type": "code",
   "execution_count": null,
   "metadata": {},
   "outputs": [],
   "source": [
    "# Define custom learning rate schedule\n",
    "def step_decay(epoch):\n",
    "    initial_lrate = 1e-5\n",
    "    drop = 0.5\n",
    "    epochs_drop = 5.0\n",
    "    lrate = initial_lrate * math.pow(drop, math.floor((1+epoch)/epochs_drop))\n",
    "    return lrate"
   ]
  },
  {
   "cell_type": "code",
   "execution_count": null,
   "metadata": {},
   "outputs": [],
   "source": [
    "# Define parameters\n",
    "dataset_basepath = '/data/Cityscapes' \n",
    "class_dict = 'class_dict.csv'\n",
    "\n",
    "resnet_weights = 'resnet101_weights_tf.h5'\n",
    "\n",
    "input_shape = (768,768,3)\n",
    "batch_size = 1\n",
    "\n",
    "data_gen_args = dict(rotation_range=0.1,\n",
    "                    width_shift_range=0.05,\n",
    "                    height_shift_range=0.05,\n",
    "                    shear_range=0.05,\n",
    "                    zoom_range=0.05,\n",
    "                    horizontal_flip=True,\n",
    "                    fill_mode='nearest')\n",
    "\n",
    "save_summary = True\n",
    "\n",
    "# Import classes from csv file\n",
    "class_names_list, mask_colors, num_class, class_names_string = get_label_info(os.path.join(dataset_basepath,class_dict))\n",
    "\n",
    "# Define custom loss function to ignore void class (https://github.com/keras-team/keras/issues/6261)\n",
    "# Assuming last class is void\n",
    "def ignore_unknown_xentropy(ytrue, ypred):\n",
    "    return (1-ytrue[:, :, :, num_class-1])*categorical_crossentropy(ytrue, ypred)\n",
    "\n",
    "# Data generators for training\n",
    "myTrainGenerator = trainGenerator(batch_size,\n",
    "                                  os.path.join(dataset_basepath,'training'),\n",
    "                                  'images',\n",
    "                                  'labels',\n",
    "                                  num_class,\n",
    "                                  input_shape,\n",
    "                                  data_gen_args,\n",
    "                                  mask_colors = mask_colors)\n",
    "myValGenerator = trainGenerator(batch_size,\n",
    "                                os.path.join(dataset_basepath,'validation'),\n",
    "                                'images',\n",
    "                                'labels',\n",
    "                                num_class,\n",
    "                                input_shape,\n",
    "                                data_gen_args,\n",
    "                                mask_colors = mask_colors)\n",
    "\n",
    "# Define callbacks\n",
    "model_checkpoint = ModelCheckpoint('weights.{epoch:02d}-{val_loss:.2f}.hdf5',\n",
    "                                   monitor = 'val_loss',\n",
    "                                   verbose = 1,\n",
    "                                   save_best_only = True)\n",
    "\n",
    "tbCallBack = TensorBoard(log_dir='./log', histogram_freq=0,\n",
    "                         write_graph=True,\n",
    "                         write_grads=True,\n",
    "                         batch_size=batch_size,\n",
    "                         write_images=True)\n",
    "\n",
    "lrate = LearningRateScheduler(step_decay)"
   ]
  },
  {
   "cell_type": "markdown",
   "metadata": {},
   "source": [
    "## Build model"
   ]
  },
  {
   "cell_type": "code",
   "execution_count": null,
   "metadata": {},
   "outputs": [],
   "source": [
    "# Build and compile RefineNet\n",
    "model = build_refinenet(input_shape, num_class, resnet_weights, True) # set to False to unfreeze frontend layers\n",
    "model.compile(optimizer = Adam(lr = 1e-5), loss = ignore_unknown_xentropy, metrics = ['accuracy'])\n",
    "\n",
    "if save_summary:\n",
    "    with open('RefineNet_summary.txt', 'w') as f:\n",
    "        with redirect_stdout(f):\n",
    "            model.summary()"
   ]
  },
  {
   "cell_type": "markdown",
   "metadata": {},
   "source": [
    "## Training"
   ]
  },
  {
   "cell_type": "code",
   "execution_count": null,
   "metadata": {},
   "outputs": [],
   "source": [
    "# Load previous weights if available\n",
    "model.load_weights('checkpoints/weights.01-0.30.hdf5')"
   ]
  },
  {
   "cell_type": "code",
   "execution_count": null,
   "metadata": {},
   "outputs": [],
   "source": [
    "# Start training\n",
    "model.fit_generator(myTrainGenerator,\n",
    "                    steps_per_epoch = 2975,\n",
    "                    validation_data = myValGenerator,\n",
    "                    validation_steps = 30,\n",
    "                    epochs = 50,\n",
    "                    callbacks = [model_checkpoint, tbCallBack, lrate])"
   ]
  },
  {
   "cell_type": "markdown",
   "metadata": {},
   "source": [
    "## Inference"
   ]
  },
  {
   "cell_type": "code",
   "execution_count": null,
   "metadata": {},
   "outputs": [],
   "source": [
    "out_dir = 'img'\n",
    "out_size = (1024,2048,3)\n",
    "\n",
    "myTestGenerator = testGenerator(os.path.join(dataset_basepath,'testing/images'), input_shape, out_dir)\n",
    "results = model.predict_generator(myTestGenerator, 30, verbose=1)\n",
    "saveResult(results, out_dir, out_size, mask_colors)"
   ]
  }
 ],
 "metadata": {
  "kernelspec": {
   "display_name": "Python 3",
   "language": "python",
   "name": "python3"
  },
  "language_info": {
   "codemirror_mode": {
    "name": "ipython",
    "version": 3
   },
   "file_extension": ".py",
   "mimetype": "text/x-python",
   "name": "python",
   "nbconvert_exporter": "python",
   "pygments_lexer": "ipython3",
   "version": "3.6.7"
  }
 },
 "nbformat": 4,
 "nbformat_minor": 2
}
