{
 "cells": [
  {
   "cell_type": "code",
   "execution_count": null,
   "metadata": {},
   "outputs": [],
   "source": [
    "from keras.optimizers import SGD\n",
    "from keras.callbacks import ModelCheckpoint, TensorBoard, LearningRateScheduler\n",
    "\n",
    "import os, math, fnmatch\n",
    "from contextlib import redirect_stdout\n",
    "\n",
    "from utils.data import trainGenerator, testGenerator, saveResult\n",
    "from utils.helpers import get_label_info\n",
    "from utils.utils import step_decay\n",
    "from model.refinenet import build_refinenet"
   ]
  },
  {
   "cell_type": "markdown",
   "metadata": {},
   "source": [
    "## Definitions"
   ]
  },
  {
   "cell_type": "code",
   "execution_count": null,
   "metadata": {},
   "outputs": [],
   "source": [
    "# Define parameters\n",
    "dataset_basepath = r'C:\\Projects\\MSc Thesis\\data\\Cityscapes' \n",
    "class_dict = 'class_dict.csv'\n",
    "\n",
    "resnet_weights = 'model/resnet101_weights_tf.h5'\n",
    "\n",
    "input_shape = (1024,1024,3)\n",
    "batch_size = 2\n",
    "\n",
    "data_gen_args = dict(rotation_range=0.1,\n",
    "                    width_shift_range=0.05,\n",
    "                    height_shift_range=0.05,\n",
    "                    shear_range=0.05,\n",
    "                    zoom_range=0.05,\n",
    "                    horizontal_flip=True,\n",
    "                    fill_mode='nearest')\n",
    "\n",
    "save_summary = True\n",
    "\n",
    "steps_per_epoch = math.floor(len(fnmatch.filter(os.listdir(os.path.join(dataset_basepath,'training','images')), '*.png'))/batch_size)\n",
    "\n",
    "# Import classes from csv file\n",
    "class_names_list, mask_colors, num_class, class_names_string = get_label_info(os.path.join(dataset_basepath,class_dict))\n",
    "\n",
    "# Data generators for training\n",
    "myTrainGenerator = trainGenerator(batch_size,os.path.join(dataset_basepath,\n",
    "            'training'),'images','labels',data_gen_args,num_class,\n",
    "            input_shape,mask_colors=mask_colors)\n",
    "myValGenerator = trainGenerator(batch_size,os.path.join(dataset_basepath,\n",
    "            'validation'),'images','labels',data_gen_args,num_class,\n",
    "            input_shape,mask_colors=mask_colors)\n",
    "\n",
    "# Define callbacks\n",
    "model_checkpoint = ModelCheckpoint('weights.{epoch:02d}-{val_loss:.2f}.hdf5',\n",
    "                                   monitor = 'val_loss',\n",
    "                                   verbose = 1,\n",
    "                                   save_best_only = True)\n",
    "\n",
    "tbCallBack = TensorBoard(log_dir='log', histogram_freq=0,\n",
    "                         write_graph=True,\n",
    "                         write_grads=True,\n",
    "                         batch_size=batch_size,\n",
    "                         write_images=True)\n",
    "\n",
    "lrate = LearningRateScheduler(step_decay)"
   ]
  },
  {
   "cell_type": "markdown",
   "metadata": {},
   "source": [
    "## Build model"
   ]
  },
  {
   "cell_type": "code",
   "execution_count": null,
   "metadata": {},
   "outputs": [],
   "source": [
    "# Build and compile RefineNet\n",
    "model = build_refinenet(input_shape, num_class, resnet_weights)\n",
    "sgd = SGD(lr=1e-4, decay=1e-6, momentum=0.9, nesterov=True) # TODO: Tune optimizer\n",
    "model.compile(optimizer=sgd, loss='categorical_crossentropy', metrics=['accuracy'])\n",
    "\n",
    "if save_summary:\n",
    "    with open('RefineNet_summary.txt', 'w') as f:\n",
    "        with redirect_stdout(f):\n",
    "            model.summary()"
   ]
  },
  {
   "cell_type": "markdown",
   "metadata": {},
   "source": [
    "## Start training"
   ]
  },
  {
   "cell_type": "markdown",
   "metadata": {},
   "source": [
    "model.fit_generator(myTrainGenerator,\n",
    "                    steps_per_epoch = 2000,\n",
    "                    validation_data = myValGenerator,\n",
    "                    validation_steps = 30,\n",
    "                    epochs = 50,\n",
    "                    callbacks = [model_checkpoint, tbCallBack, lrate])"
   ]
  }
 ],
 "metadata": {
  "kernelspec": {
   "display_name": "Python 3",
   "language": "python",
   "name": "python3"
  },
  "language_info": {
   "codemirror_mode": {
    "name": "ipython",
    "version": 3
   },
   "file_extension": ".py",
   "mimetype": "text/x-python",
   "name": "python",
   "nbconvert_exporter": "python",
   "pygments_lexer": "ipython3",
   "version": "3.6.7"
  }
 },
 "nbformat": 4,
 "nbformat_minor": 2
}
